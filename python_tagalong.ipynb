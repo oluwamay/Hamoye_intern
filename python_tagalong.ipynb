{
 "cells": [
  {
   "cell_type": "code",
   "execution_count": 19,
   "metadata": {},
   "outputs": [],
   "source": [
    "#import libraries\n",
    "import numpy as np\n",
    "import pandas as pd\n",
    "import seaborn as sns"
   ]
  },
  {
   "cell_type": "code",
   "execution_count": 58,
   "metadata": {},
   "outputs": [
    {
     "data": {
      "text/plain": [
       "Area\n",
       "Algeria                        1313\n",
       "Angola                         1424\n",
       "Benin                          1285\n",
       "Botswana                       1378\n",
       "Burkina Faso                   1409\n",
       "Cabo Verde                     1260\n",
       "Cameroon                       1460\n",
       "Central African Republic       1344\n",
       "Chad                           1343\n",
       "Comoros                          45\n",
       "Congo                          1413\n",
       "Côte d'Ivoire                  1467\n",
       "Djibouti                       1095\n",
       "Egypt                          1488\n",
       "Eswatini                       1284\n",
       "Ethiopia                       1447\n",
       "Ethiopia PDR                     39\n",
       "Gabon                          1245\n",
       "Gambia                         1168\n",
       "Ghana                          1354\n",
       "Guinea                         1410\n",
       "Guinea-Bissau                  1128\n",
       "Kenya                          1560\n",
       "Lesotho                        1150\n",
       "Liberia                        1206\n",
       "Madagascar                     1439\n",
       "Malawi                         1447\n",
       "Mali                           1293\n",
       "Mauritania                     1195\n",
       "Mauritius                      1378\n",
       "Morocco                        1393\n",
       "Mozambique                     1427\n",
       "Namibia                        1283\n",
       "Niger                          1403\n",
       "Nigeria                        1474\n",
       "Rwanda                         1426\n",
       "Sao Tome and Principe          1177\n",
       "Senegal                        1462\n",
       "Seychelles                       68\n",
       "Sierra Leone                   1242\n",
       "South Africa                   1399\n",
       "Sudan                          1316\n",
       "Sudan (former)                   53\n",
       "Togo                           1294\n",
       "Tunisia                        1338\n",
       "Uganda                         1458\n",
       "United Republic of Tanzania    1419\n",
       "Zambia                         1451\n",
       "Zimbabwe                       1393\n",
       "Name: Area, dtype: int64"
      ]
     },
     "execution_count": 58,
     "metadata": {},
     "output_type": "execute_result"
    }
   ],
   "source": [
    "#Download dataset\n",
    "food_data = pd.read_csv('FoodBalanceSheets_E_Africa_NOFLAG.csv', encoding = 'Latin-1')\n",
    "food_data\n",
    "#sum of animal fat produced in 2014 and 2017\n",
    "food_data.groupby(['Item'])[['Y2014','Y2017']].sum().reset_index()\n",
    "#mean and standard deviation of dataset\n",
    "food_data.mean()\n",
    "food_data.std()\n",
    "#number of missing data\n",
    "food_data.isnull().sum() \n",
    "#Heatmap to show correlation between values\n",
    "sns.heatmap(food_data.corr(), cbar = True, annot = True, cmap = 'RdBu')\n",
    "#sum of import duty\n",
    "food_data.groupby(['Element'])[['Y2014','Y2015','Y2016','Y2017', 'Y2018']].sum().reset_index()\n",
    "#Element with highest sum in 2018\n",
    "food_data.groupby(['Element'])[['Y2018']].sum().reset_index()\n",
    "#Total import quantity in Algeria\n",
    "food_data.groupby(['Area', 'Element'])[['Y2018']].sum().reset_index()\n",
    "food_df2 = food_data.groupby('Area')['Area'].size()"
   ]
  }
 ],
 "metadata": {
  "kernelspec": {
   "display_name": "Python 3",
   "language": "python",
   "name": "python3"
  },
  "language_info": {
   "codemirror_mode": {
    "name": "ipython",
    "version": 3
   },
   "file_extension": ".py",
   "mimetype": "text/x-python",
   "name": "python",
   "nbconvert_exporter": "python",
   "pygments_lexer": "ipython3",
   "version": "3.8.3"
  }
 },
 "nbformat": 4,
 "nbformat_minor": 4
}
